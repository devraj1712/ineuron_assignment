{
 "cells": [
  {
   "cell_type": "markdown",
   "id": "027d5fe8",
   "metadata": {},
   "source": [
    "1. The try block is used to handle a vulnerable block of code which has the potential to return an error. The try clause gives a provision to bypass such a statement by switching the control of the program to the except clause whenever an error is encountered. This prevents the program from crashing.  \n",
    "The except block is used to specify a condition that will be executed only when an error is encountered, enabling us to lay down an alternative pathway to carry out conditional instructions without hampering the logic of the main code. Also the except clause can generate an exception to notify the user about an error without interrupting the execution of code."
   ]
  },
  {
   "cell_type": "code",
   "execution_count": null,
   "id": "83690e72",
   "metadata": {},
   "outputs": [],
   "source": [
    "#2. \n",
    "\"\"\"To declare a try block we need to write the keyword 'try' followed by a colon \n",
    "and this is followed with a nested block of code to be executed.  \n",
    "After the try block is specified we must switch over to a new line and \n",
    "write the keyword 'except' followed by a colon and mention the conditional instructions \n",
    "to be executed in an indented block.\"\"\"\n",
    "#sample try except block\n",
    "try:\n",
    "    a=10\n",
    "    b=20\n",
    "except:\n",
    "    a=b=0"
   ]
  },
  {
   "cell_type": "markdown",
   "id": "4658a6d2",
   "metadata": {},
   "source": [
    "3. If an exception occurs inside a try block and there is no matching except block, the program will crash by displaying an error message. Unless we specify an except block we cannot prevent the execution of code from being interrupted."
   ]
  },
  {
   "cell_type": "markdown",
   "id": "c65100a4",
   "metadata": {},
   "source": [
    "4. If we use a bare except block the program will switch over control to that block whenver an exception is encountered regardless of the type of exception.  \n",
    "However we can exercise greater control over the flow of program when we mention a specific exception type, we can have multiple except blocks for a single try block, with each having a separate instruction as desired.\n"
   ]
  },
  {
   "cell_type": "code",
   "execution_count": null,
   "id": "30abf9d1",
   "metadata": {},
   "outputs": [],
   "source": [
    "#5. Yes, we can have a nested try except block in a program. For example:\n",
    "try:\n",
    "    x=input(\"Enter an integer\")\n",
    "    if int(x)%2==0: \n",
    "        print(\"You have entered an even number\")\n",
    "    else:\n",
    "        print(\"You have entered an odd number\")\n",
    "except:  \n",
    "    print(\"Entered value is not an integer\")\n",
    "    try:\n",
    "        x=input(\"You have one more attempt. Please enter an integer\")\n",
    "        if int(x)%2==0: \n",
    "            print(\"You have entered an even number\")\n",
    "        else:\n",
    "            print(\"You have entered an odd number\")\n",
    "    except:\n",
    "        print(\"Invalid entry. You have exceeded max no of attempts.\")"
   ]
  },
  {
   "cell_type": "code",
   "execution_count": null,
   "id": "20450fff",
   "metadata": {},
   "outputs": [],
   "source": [
    "#6. Yes, we can use multiple exception blocks. For example:\n",
    "while True:\n",
    "    try:\n",
    "        x=input(\"Enter your name here\")\n",
    "        if x.isalpha()==True:\n",
    "            y=x.split() \n",
    "            print(\"Your first name is \", y[0])\n",
    "            print(\"Your last name is \", y[1])\n",
    "            break\n",
    "        elif x.isnumeric()==True:\n",
    "            y=int(x)\n",
    "            print(\"Your name is \"+y)\n",
    "    except IndexError:  \n",
    "        print(\"Please enter your full name\")\n",
    "    except TypeError:\n",
    "        print(\"Please enter a string\")"
   ]
  },
  {
   "cell_type": "markdown",
   "id": "6f581467",
   "metadata": {},
   "source": [
    "7. a) EOF error : This error is encountered when the program expects an input from the user but fails to read any input.  \n",
    "   b) Floating point error : This error occurs when we try to do an arithmetic operation involving a floating point number which is not possible to evaluate. For ex: -1**2.5  \n",
    "   c) IndexError : Thus error occurs when the program is unable to encounter a dictionary element with the specified index number.  \n",
    "   d) MemoryError : A memory error means that the system has run out of memory to allocate to your python program.  \n",
    "   e) OverflowError : An overflow error is encountered when the data type used to store the data was not large enough to hold it.  \n",
    "   f) TabError : Tab error occurs when there is an inconsistent use of tabs and spaces used for indenting code.  \n",
    "   g) ValueError : A value error is encountered when a function is called with an invalid argument, such as passing a boolean parameter to an int() function.\n",
    "    "
   ]
  },
  {
   "cell_type": "code",
   "execution_count": 5,
   "id": "e17089f8",
   "metadata": {},
   "outputs": [
    {
     "name": "stdout",
     "output_type": "stream",
     "text": [
      "enter first number8\n",
      "enter second number4\n",
      "8 divided by 4 is equal to 2.0\n"
     ]
    }
   ],
   "source": [
    "#8. a) program to divide two numbers\n",
    "try:\n",
    "    a=input(\"enter first number\")\n",
    "    b=input(\"enter second number\")\n",
    "    c=int(a)/int(b)\n",
    "    print(a+\" divided by \"+b+\" is equal to \"+str(c))\n",
    "except:\n",
    "    print(\"entered values are not valid numbers\")"
   ]
  },
  {
   "cell_type": "code",
   "execution_count": 6,
   "id": "b7646540",
   "metadata": {},
   "outputs": [
    {
     "name": "stdout",
     "output_type": "stream",
     "text": [
      "enter an integer4\n",
      "Entered character successfully converted to integer\n"
     ]
    }
   ],
   "source": [
    "# b) program to convert a string to an integer\n",
    "try:\n",
    "    x=input(\"enter an integer\")\n",
    "    num= int(x)\n",
    "    print(\"Entered character successfully converted to integer\")\n",
    "except:\n",
    "    print(\"Entered character cannot be converted to integer\")"
   ]
  },
  {
   "cell_type": "code",
   "execution_count": 7,
   "id": "b68eb92b",
   "metadata": {},
   "outputs": [
    {
     "name": "stdout",
     "output_type": "stream",
     "text": [
      "enter index of element you wish to access3\n",
      "90\n"
     ]
    }
   ],
   "source": [
    "# c) program to access an element in a list\n",
    "try:\n",
    "    l1=[3,6,7,90,56]\n",
    "    x=input(\"enter index of element you wish to access\")\n",
    "    print(l1[int(x)])\n",
    "except:\n",
    "    print(\"element with this index does not exist\")\n",
    "    "
   ]
  },
  {
   "cell_type": "code",
   "execution_count": 12,
   "id": "a9cc9f12",
   "metadata": {},
   "outputs": [
    {
     "name": "stdout",
     "output_type": "stream",
     "text": [
      "Enter a number between 1-10abcd\n",
      "you have not entered a valid number\n"
     ]
    }
   ],
   "source": [
    "# d) program to handle a specific exception\n",
    "try:\n",
    "    x=input(\"Enter a number between 1-10\")\n",
    "    a=int(x)\n",
    "except ValueError:\n",
    "    print(\"you have not entered a valid number\")\n",
    "    "
   ]
  },
  {
   "cell_type": "code",
   "execution_count": 24,
   "id": "016036c1",
   "metadata": {},
   "outputs": [
    {
     "name": "stdout",
     "output_type": "stream",
     "text": [
      "choose first index2\n",
      "choose second index3\n",
      "sum is 34\n"
     ]
    }
   ],
   "source": [
    "# e) program to handle any exception\n",
    "try:\n",
    "    list1=[a,b,34,0,False]\n",
    "    x=input(\"choose first index\")\n",
    "    y=input(\"choose second index\")\n",
    "    z=list1[int(x)]+list1[int(y)]\n",
    "    print(\"sum is \"+str(z))\n",
    "except:\n",
    "    print(\"operation not possible on chosen variables\")"
   ]
  },
  {
   "cell_type": "code",
   "execution_count": null,
   "id": "f4753696",
   "metadata": {},
   "outputs": [],
   "source": []
  }
 ],
 "metadata": {
  "kernelspec": {
   "display_name": "Python 3 (ipykernel)",
   "language": "python",
   "name": "python3"
  },
  "language_info": {
   "codemirror_mode": {
    "name": "ipython",
    "version": 3
   },
   "file_extension": ".py",
   "mimetype": "text/x-python",
   "name": "python",
   "nbconvert_exporter": "python",
   "pygments_lexer": "ipython3",
   "version": "3.10.9"
  }
 },
 "nbformat": 4,
 "nbformat_minor": 5
}
