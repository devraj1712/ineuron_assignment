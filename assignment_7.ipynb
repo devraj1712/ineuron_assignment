{
 "cells": [
  {
   "cell_type": "code",
   "execution_count": 10,
   "id": "1b8a6653",
   "metadata": {},
   "outputs": [
    {
     "name": "stdout",
     "output_type": "stream",
     "text": [
      "First variable is 16 & second variable is 8\n",
      "Addition: 16 + 8 = 24\n",
      "Subtraction: 16 - 8 = 8\n",
      "Multiplication: 16 * 8 = 128\n",
      "Division: 16 / 8 = 2.0\n"
     ]
    }
   ],
   "source": [
    "a = 16\n",
    "b = 8\n",
    "c = a+b\n",
    "d = a-b\n",
    "e = a*b\n",
    "f = a/b\n",
    "print(\"First variable is \"+ str(a) +\" & second variable is \"+ str(b))\n",
    "print(\"Addition: \" + str(a) +\" + \"+ str(b) +\" = \" + str(c))\n",
    "print(\"Subtraction: \" + str(a) +\" - \"+ str(b) +\" = \" + str(d))\n",
    "print(\"Multiplication: \" + str(a) +\" * \"+ str(b) +\" = \" + str(e))\n",
    "print(\"Division: \" + str(a) +\" / \"+ str(b) +\" = \" + str(f))"
   ]
  },
  {
   "cell_type": "markdown",
   "id": "f694f96f",
   "metadata": {},
   "source": [
    "2. (i) / is used to designate the float division operator whereas // designates the floor division operator  \n",
    "      Float division operation returns a value which is always a float whereas the Floor division operation first carries out division and then rounds off the result to the nearest whole number and returns an integer.  \n",
    "      \n",
    "    (ii) ** is used to designate the power operator whereas ^ designates bitwise XOR operation.  \n",
    "       The power operator raises the first operand to the power of the second operand and returns the final value whereas the bitwise XOR operation first converts the two operands into their binary form and then compares each individual bit of the two elements and returns 1 if either of the two bits contain value 1 but returns 0 if both the bits contain 1 or both the bits contain 0."
   ]
  },
  {
   "cell_type": "markdown",
   "id": "9f370bdc",
   "metadata": {},
   "source": [
    "3. The various logical operators in python are as follows:  \n",
    "\n",
    "    (i) and - The and operator takes in two operands and returns value of True only if both the operands return True value  \n",
    "    (ii) or - The or operator takes in two operands and returns a value of True if any one of the two operands return a True value  \n",
    "    (iii) not - The not operator takes only one operand and returns a value of True only if the operand returns a False value"
   ]
  },
  {
   "cell_type": "markdown",
   "id": "0337e9db",
   "metadata": {},
   "source": [
    "4. The left shift operator << first reads the binary value of the operand and then shifts each individual bit one place to the left of its original position.The vacant position which is thus genrated by this shifting is filled with 0. Mathematically, the left shift operator returns a value which is the original number multiplied by a power of two.  \n",
    "Example:   \n",
    "Suppose a = 5. Its binary value can be represented as a = 101. Now if we perform the left shift operation  b= a<<1,  \n",
    "each bit will shift to one position towards left and we get b = 1010. If we convert this to integer value we find b = 10  \n",
    "\n",
    "    The right shift operator >> first reads the binary value of the operand and then shifts each individual bit one place to the right of its original position. The bit occupying the one's place is thus truncated and the vacancy created at the leftmost bit is filled with 0. Mathematically, the right shift operator returns a value which is the original number divided by a power of two.  \n",
    "    Example:  \n",
    "    Suppose a = 8 . Its binary value can be represented as a = 1000. Now if we perform the right shift operation, b= a>>1  \n",
    "    we get, b = 0100, since the 0 occupying the original one's position will be truncated an the vacancy generated on the left end will be filled with a 0. Now if we convert this binary to its corresponding integer value we find,  \n",
    "        b = 4. So the right shift operator divides the operand by a power of two."
   ]
  },
  {
   "cell_type": "code",
   "execution_count": 14,
   "id": "cbd56741",
   "metadata": {},
   "outputs": [
    {
     "name": "stdout",
     "output_type": "stream",
     "text": [
      "The list contains 10\n"
     ]
    }
   ],
   "source": [
    "#5. \n",
    "l=[1,2,3,4,5,6,7,8,9,10,11,12,13,14,15]\n",
    "count_10=0\n",
    "for i in l:\n",
    "    if i == 10:\n",
    "        count_10+=1\n",
    "if count_10>0:\n",
    "    print(\"The list contains 10\")\n",
    "else:\n",
    "    print(\"The list does not contain 10\")"
   ]
  }
 ],
 "metadata": {
  "kernelspec": {
   "display_name": "Python 3 (ipykernel)",
   "language": "python",
   "name": "python3"
  },
  "language_info": {
   "codemirror_mode": {
    "name": "ipython",
    "version": 3
   },
   "file_extension": ".py",
   "mimetype": "text/x-python",
   "name": "python",
   "nbconvert_exporter": "python",
   "pygments_lexer": "ipython3",
   "version": "3.10.9"
  }
 },
 "nbformat": 4,
 "nbformat_minor": 5
}
