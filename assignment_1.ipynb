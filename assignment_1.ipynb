{
 "cells": [
  {
   "cell_type": "raw",
   "id": "73e3833d",
   "metadata": {},
   "source": [
    "1.  * expression\n",
    "    'hello' value\n",
    "    -87.8 value\n",
    "    - expression\n",
    "    / expression\n",
    "    + expression\n",
    "    6 value"
   ]
  },
  {
   "cell_type": "raw",
   "id": "a64f8ed3",
   "metadata": {},
   "source": [
    "2.  A string is a specific type of variable which can include alphanumeric characters and is specified with the help of quotes.\n",
    "    A variable on the other hand refers to a general entity which can hold any kind of data type be it string, integer, boolean, etc."
   ]
  },
  {
   "cell_type": "raw",
   "id": "632e17c6",
   "metadata": {},
   "source": [
    "3. Three different data types are as follows :\n",
    "    a) Integer : an integer refers to a data type which holds a numeric value that must be a whole number i.e it must be greater than or equal to zero\n",
    "    b) Float : float refers to a data type which can include numerical values comprising of positive, negative or even decimal values.\n",
    "    c) Boolean : a boolean is a data type that returns a value of either true or false. It is used to define certain entities which can only have a binary outcome possible.\n",
    "        "
   ]
  },
  {
   "cell_type": "raw",
   "id": "288edb43",
   "metadata": {},
   "source": [
    "4. An expression is made up of special characters like *,/,+ that are used to assign an arithmetic operation to a symbol.\n",
    "   The basic purpose behind all expressions is to carry out arithmetic operations when dealing with numerical values in a set of data as per the requirement of the programmer. For example finding the sum, product ,mean ,etc of values from a given data set to furnish desired results. "
   ]
  },
  {
   "cell_type": "raw",
   "id": "c54a75fc",
   "metadata": {},
   "source": [
    " 5. A Statement comprises of a line of code that includes a variable ,an expression and a value which can be understood by the compiler as an individual step of a larger algorithm.\n",
    " An expression on the other hand is only an operator which needs other values to be specified in order to be processed as a meaningful command."
   ]
  },
  {
   "cell_type": "raw",
   "id": "2433486e",
   "metadata": {},
   "source": [
    "6. 23"
   ]
  },
  {
   "cell_type": "raw",
   "id": "400a9154",
   "metadata": {},
   "source": [
    "7. spamspamspam"
   ]
  },
  {
   "cell_type": "raw",
   "id": "ecbc821d",
   "metadata": {},
   "source": [
    "8. A Variable name must not begin with a numeric value. Therefore, variable name \"eggs\" is valid as it starts with an alphabetic character."
   ]
  },
  {
   "cell_type": "raw",
   "id": "cc9f4d4b",
   "metadata": {},
   "source": [
    "9. str()\n",
    "   int()\n",
    "   float()"
   ]
  },
  {
   "cell_type": "raw",
   "id": "11cf32f8",
   "metadata": {},
   "source": [
    "10. In the given expression, we are trying to concatenate a string with an integer which is not a permissible operation.\n",
    "    In order to fix this , we can use the str() function to convert the integer value to string and then proceed with string concatenation as follows:\n",
    "    'I have eaten' + str(99) + 'burritos.'"
   ]
  }
 ],
 "metadata": {
  "kernelspec": {
   "display_name": "Python 3 (ipykernel)",
   "language": "python",
   "name": "python3"
  },
  "language_info": {
   "codemirror_mode": {
    "name": "ipython",
    "version": 3
   },
   "file_extension": ".py",
   "mimetype": "text/x-python",
   "name": "python",
   "nbconvert_exporter": "python",
   "pygments_lexer": "ipython3",
   "version": "3.10.9"
  }
 },
 "nbformat": 4,
 "nbformat_minor": 5
}
