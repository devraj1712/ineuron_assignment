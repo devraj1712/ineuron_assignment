{
 "cells": [
  {
   "cell_type": "markdown",
   "id": "25a967b7",
   "metadata": {},
   "source": [
    "<pre>\n",
    "1.  *       Expression  \n",
    "    'hello' Value  \n",
    "    -87.8   Value  \n",
    "    -       Expression  \n",
    "    /       Expression  \n",
    "    +       Expression  \n",
    "    6       Value   \n",
    "</pre>    "
   ]
  },
  {
   "cell_type": "markdown",
   "id": "f4da8416",
   "metadata": {},
   "source": [
    "2.  A string is a specific type of variable which can include alphanumeric characters and is specified with the help of quotes.  \n",
    "    A variable on the other hand refers to a general entity which can hold any kind of data type be it string, integer, boolean, etc."
   ]
  },
  {
   "cell_type": "markdown",
   "id": "feec2418",
   "metadata": {},
   "source": [
    "3. Three different data types are as follows :  \n",
    "    a) Integer : an integer refers to a data type which holds a numeric value that must be a whole number i.e it must be greater than or equal to zero  \n",
    "    b) Float : float refers to a data type which can include numerical values comprising of positive, negative or even decimal values.  \n",
    "    c) Boolean : a boolean is a data type that returns a value of either true or false. It is used to define certain entities which can only have a binary outcome possible.  \n",
    "        "
   ]
  },
  {
   "cell_type": "markdown",
   "id": "71845148",
   "metadata": {},
   "source": [
    "4. An expression is made up of special characters like *,/,+ that are used to assign an arithmetic operation to a symbol.  \n",
    "   The basic purpose behind all expressions is to carry out arithmetic operations when dealing with numerical values in a set of data as per the requirement of the programmer. For example finding the sum, product ,mean ,etc of values from a given data set to furnish desired results. "
   ]
  },
  {
   "cell_type": "markdown",
   "id": "87d28dc3",
   "metadata": {},
   "source": [
    "5. A Statement comprises of a line of code that includes a variable ,an expression and a value which can be understood by the compiler as an individual step of a larger algorithm.  \n",
    " An expression on the other hand is only an operator which needs other values to be specified in order to be processed as a meaningful command."
   ]
  },
  {
   "cell_type": "markdown",
   "id": "37af75c0",
   "metadata": {},
   "source": [
    "6. 23"
   ]
  },
  {
   "cell_type": "markdown",
   "id": "24f2d60d",
   "metadata": {},
   "source": [
    "7. spamspamspam"
   ]
  },
  {
   "cell_type": "markdown",
   "id": "7f362d5b",
   "metadata": {},
   "source": [
    "8. A Variable name must not begin with a numeric value. Therefore, variable name \"eggs\" is valid as it starts with an alphabetic character."
   ]
  },
  {
   "cell_type": "markdown",
   "id": "6abb0bca",
   "metadata": {},
   "source": [
    "9. str()  \n",
    "   int()  \n",
    "   float()  "
   ]
  },
  {
   "cell_type": "markdown",
   "id": "9c14b8bc",
   "metadata": {},
   "source": [
    "10. In the given expression, we are trying to concatenate a string with an integer which is not a permissible operation.  \n",
    "    In order to fix this , we can use the str() function to convert the integer value to string and then proceed with string concatenation as follows:  \n",
    "    'I have eaten' + str(99) + 'burritos.'"
   ]
  }
 ],
 "metadata": {
  "kernelspec": {
   "display_name": "Python 3 (ipykernel)",
   "language": "python",
   "name": "python3"
  },
  "language_info": {
   "codemirror_mode": {
    "name": "ipython",
    "version": 3
   },
   "file_extension": ".py",
   "mimetype": "text/x-python",
   "name": "python",
   "nbconvert_exporter": "python",
   "pygments_lexer": "ipython3",
   "version": "3.10.9"
  }
 },
 "nbformat": 4,
 "nbformat_minor": 5
}
