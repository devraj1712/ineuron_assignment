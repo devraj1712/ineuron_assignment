{
 "cells": [
  {
   "cell_type": "raw",
   "id": "df79166a",
   "metadata": {},
   "source": [
    "1. The two values of boolean data type are True and False.\n",
    "   In order to declare a variable as a boolean, we simply write variable name equal to        \n",
    "   True/False(Boolean value starts with a capital letter)"
   ]
  },
  {
   "cell_type": "raw",
   "id": "189d4892",
   "metadata": {},
   "source": [
    "2. The three different types of boolean operators are and, or & not."
   ]
  },
  {
   "cell_type": "raw",
   "id": "99e2b42c",
   "metadata": {},
   "source": [
    "3. a) and : this operator requires two operands and it evaluates if both of the operands are true.\n",
    "            It  is declared as - x and y followed by an expression ==,<,>\n",
    "            if  x = true , y = true , return = true \n",
    "                x = true , y = false , return = false\n",
    "                x = false , y = true , return = false\n",
    "                x = false , y = false , return = false\n",
    "   \n",
    "   b) or : this operator requires two operands and it evaluates if any of the two is true. \n",
    "           It is declared as - x or y followed by an expression ==,<,>\n",
    "           if x = true , y = true , return = true\n",
    "              x = true , y = false , return = true\n",
    "              x = false , y = true , return = true\n",
    "              x = false , y = false , return = false\n",
    "              \n",
    "    c) not : this operator requires a single operand and it checks if the succeeding operand is false.\n",
    "           if x = true , return = false\n",
    "              x = false , return = true"
   ]
  },
  {
   "cell_type": "raw",
   "id": "4e1fce9d",
   "metadata": {},
   "source": [
    "4. (5>4) and (3==5) return = false\n",
    "   not (5>4) return = false\n",
    "   (5>4) or (3==5) return = true\n",
    "   not((5>4) or (3==5)) return = false\n",
    "   (true and true) and (true == false) return = false\n",
    "   (not false) or (not true) return = true\n",
    "   "
   ]
  },
  {
   "cell_type": "raw",
   "id": "ba021c30",
   "metadata": {},
   "source": [
    "5. The six comparison operators are as follows :\n",
    "   1) == : this is the \"equal to\" operator .it returns a value of true only if the operands on either    side of the operator have the same value.\n",
    "   2) != : not equal to . it returns true if the values on either side of the operator are unequal.\n",
    "   3) < : lesser than. it returns true if the operand preceeding the operator is lesser than the          succeeding operand\n",
    "   4) > : greater than. it returns true if the operand preceeding the operator is greater than the        succeeding operand \n",
    "   5) <= : lesser than equal to. it returns true if the operand preceeding the operator is lesser than    or equal to the succeeding operand\n",
    "   6) >= : greater than equal to. it returns true if the operand preceeding the operator is greater      than or equal to the succeeding operand "
   ]
  },
  {
   "cell_type": "raw",
   "id": "8ab250eb",
   "metadata": {},
   "source": [
    "6. The equal to operator is declared using two == characters whereas the assignment operator is          declared using a single = operator.\n",
    "   Example - \n",
    "   Suppose we wish to check if a variable is equal to a specific value, we can write\n",
    "   a == 5. this will return true only if a is equal to 5\n",
    "   Suppose we wish to assign a value 5 to a variable \"a\". we can write : a = 5\n",
    "   "
   ]
  },
  {
   "cell_type": "raw",
   "id": "38b44c06",
   "metadata": {},
   "source": [
    "7. block 1 -\n",
    "   if spam == 10 :\n",
    "       print(\"eggs\")\n",
    "   \n",
    "   block 2 -\n",
    "   elif spam > 5 :\n",
    "       print(\"bacon\")\n",
    "   \n",
    "   block 3 -\n",
    "   else :\n",
    "       print(\"ham\")\n",
    "       print(\"spam\")\n",
    "       print(\"spam\")\n",
    "       "
   ]
  },
  {
   "cell_type": "code",
   "execution_count": 8,
   "id": "827be6e5",
   "metadata": {},
   "outputs": [
    {
     "name": "stdout",
     "output_type": "stream",
     "text": [
      "greetings!\n"
     ]
    }
   ],
   "source": [
    "spam = \"type any value\"\n",
    "if spam == 1 :\n",
    "    print(\"hello\")\n",
    "elif spam == 2 :\n",
    "    print(\"howdy\")\n",
    "else :\n",
    "    print(\"greetings!\")"
   ]
  },
  {
   "cell_type": "raw",
   "id": "8d8bcb84",
   "metadata": {},
   "source": [
    "9. Esc,0,0 to restart kernel"
   ]
  },
  {
   "cell_type": "raw",
   "id": "ec40632f",
   "metadata": {},
   "source": [
    "10. Break and Continue are two commands used inside a loop.\n",
    "    When the program encounters the break command, it terminates the loop\n",
    "    When the program encounters the continue command, it sends it back to the start of the loop           without processing the following statements inside the loop"
   ]
  },
  {
   "cell_type": "raw",
   "id": "659d98b4",
   "metadata": {},
   "source": [
    "11. No differnce. All these statements return the same range of values from 0 to 9"
   ]
  },
  {
   "cell_type": "code",
   "execution_count": 17,
   "id": "010bd890",
   "metadata": {},
   "outputs": [
    {
     "name": "stdout",
     "output_type": "stream",
     "text": [
      "1\n",
      "2\n",
      "3\n",
      "4\n",
      "5\n",
      "6\n",
      "7\n",
      "8\n",
      "9\n",
      "10\n"
     ]
    }
   ],
   "source": [
    "for i in range(1,11):\n",
    "    print(i)"
   ]
  },
  {
   "cell_type": "code",
   "execution_count": 18,
   "id": "b07885a8",
   "metadata": {},
   "outputs": [
    {
     "name": "stdout",
     "output_type": "stream",
     "text": [
      "1\n",
      "2\n",
      "3\n",
      "4\n",
      "5\n",
      "6\n",
      "7\n",
      "8\n",
      "9\n",
      "10\n"
     ]
    }
   ],
   "source": [
    "i=1\n",
    "while i <= 10 :\n",
    "    print(i)\n",
    "    i=i+1"
   ]
  },
  {
   "cell_type": "raw",
   "id": "0da6e5be",
   "metadata": {},
   "source": [
    "13. After importing spam module, we can simply type spam.bacon() to call the function"
   ]
  },
  {
   "cell_type": "code",
   "execution_count": null,
   "id": "9ec2bdba",
   "metadata": {},
   "outputs": [],
   "source": []
  }
 ],
 "metadata": {
  "kernelspec": {
   "display_name": "Python 3 (ipykernel)",
   "language": "python",
   "name": "python3"
  },
  "language_info": {
   "codemirror_mode": {
    "name": "ipython",
    "version": 3
   },
   "file_extension": ".py",
   "mimetype": "text/x-python",
   "name": "python",
   "nbconvert_exporter": "python",
   "pygments_lexer": "ipython3",
   "version": "3.10.9"
  }
 },
 "nbformat": 4,
 "nbformat_minor": 5
}
