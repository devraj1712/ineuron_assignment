{
 "cells": [
  {
   "cell_type": "markdown",
   "id": "cd99527a",
   "metadata": {},
   "source": [
    "1. The [] symbol is used to declare a list. A list is an ordered arrangement of entities belonging to any data type. Further a list is a mutable data type, meaning that it can be edited as desired."
   ]
  },
  {
   "cell_type": "code",
   "execution_count": 3,
   "id": "7f7d92ed",
   "metadata": {},
   "outputs": [],
   "source": [
    "#2. \n",
    "spam=[2,4,6,8,10]\n",
    "spam[2]=\"hello\""
   ]
  },
  {
   "cell_type": "markdown",
   "id": "b65e3a4e",
   "metadata": {},
   "source": [
    "3. spam[(int('3'*2)/11)] = spam[3] = 'd'"
   ]
  },
  {
   "cell_type": "markdown",
   "id": "8d090113",
   "metadata": {},
   "source": [
    "4. spam[-1] = 'd'"
   ]
  },
  {
   "cell_type": "markdown",
   "id": "dfb96895",
   "metadata": {},
   "source": [
    "5. spam[:2] = ['a','b']"
   ]
  },
  {
   "cell_type": "markdown",
   "id": "76f343f5",
   "metadata": {},
   "source": [
    "6. bacon.index('cat') = 1"
   ]
  },
  {
   "cell_type": "markdown",
   "id": "edac195c",
   "metadata": {},
   "source": [
    "7. bacon = [3.14,'cat',11,'cat',True,99]"
   ]
  },
  {
   "cell_type": "markdown",
   "id": "f89ae2ea",
   "metadata": {},
   "source": [
    "8. bacon = [3.14,11,'cat',True]"
   ]
  },
  {
   "cell_type": "markdown",
   "id": "336bd062",
   "metadata": {},
   "source": [
    "9. List concatenation operator '+' is used to merge two lists and returns a single list containing the items in an ordered sequence.  \n",
    "   List replication operator '*' is used to generate duplicate elements of a list and returns a single list containing these elements in sequence"
   ]
  },
  {
   "cell_type": "markdown",
   "id": "4d7cdba3",
   "metadata": {},
   "source": [
    "10. The append() function is used to add an element at the end of the list.  \n",
    "    The insert() function is used to add an element before a specified index value in a list."
   ]
  },
  {
   "cell_type": "markdown",
   "id": "35c055cd",
   "metadata": {},
   "source": [
    "11. The two ways of removing an item from a list are:  \n",
    "    By using the remove() function, the program removes the first occurence of item inside a list.  \n",
    "    By using the pop() function, we can specify the index from which we want the item to be removed from the list."
   ]
  },
  {
   "cell_type": "markdown",
   "id": "b7f78602",
   "metadata": {},
   "source": [
    "12. Suppose we have a list = ['a','b','c','d'] and a string = 'abcd'  \n",
    "    Now if we wish to access element no. 2 from either of these entities we get,  \n",
    "    list[2] = 'c'  \n",
    "    string[2] = 'c'  \n",
    "    Also, if we use the len() function to ascertain length of the list/string, we get  \n",
    "    len(list) = 4  \n",
    "    len(string) = 4  \n",
    "    Hence we can say that list values and string values are identical in this regard"
   ]
  },
  {
   "cell_type": "markdown",
   "id": "e6eeb789",
   "metadata": {},
   "source": [
    "13. Tuples are an immutable data set i.e. values once assigned to the tuple cannot be modified whereas lists are mutable.  \n",
    "Tuples are declared using () symbol whereas lists are declared using[]. List offers more inbuilt functions compared to tuple."
   ]
  },
  {
   "cell_type": "code",
   "execution_count": 4,
   "id": "83ebb2cc",
   "metadata": {},
   "outputs": [],
   "source": [
    "#14. \n",
    "tuplet = (42,)"
   ]
  },
  {
   "cell_type": "markdown",
   "id": "95331c38",
   "metadata": {},
   "source": [
    "15. To get a list value's tuple form we can use the tuple() function and pass list as the parameter.  \n",
    "    To get a tuple value's list form we can use the list() function and pass tuple as the parameter."
   ]
  },
  {
   "cell_type": "markdown",
   "id": "5d91f2c7",
   "metadata": {},
   "source": [
    "16. Variables that contain list values don't contain the lists themselves, instead they contain a reference to the list"
   ]
  },
  {
   "cell_type": "markdown",
   "id": "2c593351",
   "metadata": {},
   "source": [
    "17. The copy.copy() function does a shallow copy of a list, while the copy.deepcopy() function does a deep copy of a list i.e, it creates duplicate copies of each child element inside the list.  \n",
    "On the other hand a shallow copy function only provides references to the child elements inside the list pointing to those inside the original list.  \n",
    "This means that if the child elements inside the original list are edited, they will reflect those changes inside the shallow copied object, but the deep copy will remain unaltered. "
   ]
  }
 ],
 "metadata": {
  "kernelspec": {
   "display_name": "Python 3 (ipykernel)",
   "language": "python",
   "name": "python3"
  },
  "language_info": {
   "codemirror_mode": {
    "name": "ipython",
    "version": 3
   },
   "file_extension": ".py",
   "mimetype": "text/x-python",
   "name": "python",
   "nbconvert_exporter": "python",
   "pygments_lexer": "ipython3",
   "version": "3.10.9"
  }
 },
 "nbformat": 4,
 "nbformat_minor": 5
}
