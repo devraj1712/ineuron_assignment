{
 "cells": [
  {
   "cell_type": "markdown",
   "id": "6118e295",
   "metadata": {},
   "source": [
    "1. In python a built in function is a predefined function that comes with the \n",
    "default library of python package. ex: print()  \n",
    "  A user defined function is a function which is written by the user as per\n",
    "this requirement and this can be saved inside a library which can then be imported in the main module. ex:  \n",
    "def fun1(a,b):  \n",
    "&nbsp;&nbsp;     c=a+b  \n",
    "&nbsp;&nbsp;     return c"
   ]
  },
  {
   "cell_type": "markdown",
   "id": "c8a5a7dc",
   "metadata": {},
   "source": [
    "2. To pass arguments to a function in python, follow the function name with () and enclose the required arguments inside separated by a comma.  \n",
    "  \n",
    "Positional arguments are those where the order of the arguments being passed to the function is crucial to the function output. For ex:  \n",
    "  \n",
    "def fun(a,b):  \n",
    "&nbsp;&nbsp;    c=a-b  \n",
    "&nbsp;&nbsp;    return c  \n",
    "      \n",
    "Here, consider two arguments a=20 & b=10 . If we execute fun(20,10) the program returns value 10. However if we change the order of the parameters and pass fun(10,20) the function will return -10 as it will not be able to distinguish the value of a & b and would by default associate the first argument with a & the latter with b.  \n",
    "  \n",
    "Keyword arguments are those where the order of passing the arguments is irrelevant to the function output. To assign keyword arguments while passing arguments to a function, we must write parameter name followed by = & the corresponding value.For ex:  \n",
    "  \n",
    "In the above defined function, if we write fun(b=10, a=20) the function will return 10 as we have assigned each value to its parameter name. "
   ]
  },
  {
   "cell_type": "markdown",
   "id": "1b2c3f35",
   "metadata": {},
   "source": [
    "3. A return statement in a function is used to terminate the function operation and pass an output value to the main program.  \n",
    "No, a function cannot have multiple return statements. This is because as the interpreter encounters the first return statement it will terminate the function and pass the control to the main module. For ex:  \n",
    "  \n",
    "def test_fun(a,b):  \n",
    "&nbsp;    c=a+b  \n",
    "&nbsp;    d=a-b  \n",
    "&nbsp;    return c  \n",
    "&nbsp;    return d  \n",
    "  \n",
    "In this example while the function is being executed line by line, as soon as it encounters the statment return c, the function will terminate and return the value c to the main program. So the second return statement becomes redundant.\n"
   ]
  },
  {
   "cell_type": "markdown",
   "id": "695ec5f2",
   "metadata": {},
   "source": [
    "4. Lambda functions are basically anonymous functions which use a shortened format of defining a function without specifying a function name.\n",
    "They are utilized to declare simple functions in a single line thereby reducing the length of code.\n",
    "For ex:  \n",
    "Suppose we wish to map the integers inside a given list to their corresponding squares.\n",
    "For this we can write,  \n",
    "l1=[2,3,4,5,6] #original list  \n",
    "l2=list(map(lambda a:a*2, l1))  \n",
    "Here we need to define the function in a single line inside the argument for the map function. So it is feasible to use a lambda function in this case."
   ]
  },
  {
   "cell_type": "markdown",
   "id": "8621ab3c",
   "metadata": {},
   "source": [
    "5. The scope of a function refers to the region within a block of code from where a variable can be accessed.\n",
    "In python whenever we define a function, the region containing the body of the function is called the local scope and all the variables defined in this region can be accessed only from within this domain. Any attempt to use local variables inside an expression in the global scope would result in an error.  \n",
    "The term local scope refers to the region within a function definition and the variables defined in this region are localized meaning that their definition is valid only within the local scope.  \n",
    "The global scope refers to the region inside the main program and any variable declared in the main program can be accessed both from outside or within a function's local scope.For ex:  \n",
    "x=20  \n",
    "def test_fun(a):  \n",
    "&nbsp;    y=30  \n",
    "&nbsp;    z=x+y-a  \n",
    "&nbsp;    return z  \n",
    "In this example, the variable x is a global variable and can be accessed from anywhere whereas the variables y & z are local variables and are defined only for the region inside the function's local scope."
   ]
  },
  {
   "cell_type": "code",
   "execution_count": 1,
   "id": "e8525a14",
   "metadata": {},
   "outputs": [],
   "source": [
    "#6. In order to return multiple values from a single return statement, \n",
    "# we must follow the keyword return with two variables separated by a comma.\n",
    "def fsun(a,b) :\n",
    "    c=a+b\n",
    "    d=b-a\n",
    "    return c,d"
   ]
  },
  {
   "cell_type": "markdown",
   "id": "3d571489",
   "metadata": {},
   "source": [
    "7. Pass by values is concept in which the parameters that are being passed to the function are copied to a separate memory location to be used only by the function. This means that any change made to the variables inside the function body will not reflect in the values of the original parameters as they are stored in a separate memory location.  \n",
    "On the other hand, pass by reference is a method in which a reference pointing to the memory location of the original variables is passed to the function. Therefore, any change made to the variables inside the function alters the data stored in the original memory location."
   ]
  },
  {
   "cell_type": "code",
   "execution_count": 115,
   "id": "31dc07ad",
   "metadata": {},
   "outputs": [],
   "source": [
    "#8.\n",
    "#a) logarithmic function:\n",
    "def logn(x):\n",
    "    y=0\n",
    "    for n in range(1,990):\n",
    "        y+=((-1.0)**(n+1))*(((x-1.0)**n)/n) #using taylor series\n",
    "    return y    "
   ]
  },
  {
   "cell_type": "code",
   "execution_count": 118,
   "id": "2d5b73a9",
   "metadata": {},
   "outputs": [],
   "source": [
    "#b)exponential function :\n",
    "def expo(x):\n",
    "    y=2.718**x\n",
    "    return y"
   ]
  },
  {
   "cell_type": "code",
   "execution_count": 120,
   "id": "f467ea96",
   "metadata": {},
   "outputs": [],
   "source": [
    "#c)power function with base 2:\n",
    "def pow2(x):\n",
    "    y=2**x\n",
    "    return y"
   ]
  },
  {
   "cell_type": "code",
   "execution_count": 122,
   "id": "39d94447",
   "metadata": {},
   "outputs": [],
   "source": [
    "#d)square root of x:\n",
    "def sqrroot(x):\n",
    "    y=x**0.5\n",
    "    return y"
   ]
  },
  {
   "cell_type": "code",
   "execution_count": 134,
   "id": "e52a2efe",
   "metadata": {},
   "outputs": [],
   "source": [
    "#9.\n",
    "def funtest(FullName):\n",
    "    y=FullName\n",
    "    z=y.split()\n",
    "    fname=z[0]\n",
    "    lname=z[1]\n",
    "    print(\"Your first name is \", fname)\n",
    "    print(\"Your last name is \", lname)"
   ]
  },
  {
   "cell_type": "code",
   "execution_count": 136,
   "id": "f740fffb",
   "metadata": {},
   "outputs": [
    {
     "name": "stdout",
     "output_type": "stream",
     "text": [
      "Your first name is  Devraj\n",
      "Your last name is  Singh\n"
     ]
    }
   ],
   "source": [
    "funtest(\"Devraj Singh\")"
   ]
  },
  {
   "cell_type": "code",
   "execution_count": null,
   "id": "2bdd7451",
   "metadata": {},
   "outputs": [],
   "source": []
  }
 ],
 "metadata": {
  "kernelspec": {
   "display_name": "Python 3 (ipykernel)",
   "language": "python",
   "name": "python3"
  },
  "language_info": {
   "codemirror_mode": {
    "name": "ipython",
    "version": 3
   },
   "file_extension": ".py",
   "mimetype": "text/x-python",
   "name": "python",
   "nbconvert_exporter": "python",
   "pygments_lexer": "ipython3",
   "version": "3.10.9"
  }
 },
 "nbformat": 4,
 "nbformat_minor": 5
}
