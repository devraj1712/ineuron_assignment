{
 "cells": [
  {
   "cell_type": "markdown",
   "id": "246d67e7",
   "metadata": {},
   "source": [
    "1. Functions are advantageous to have in our programs because they allow us the benefit of using some pre-written lines of code which are intended to execute a specified task.\n",
    "This saves us the hassle of writing down each line of code everytime we intend to do a repetitive action."
   ]
  },
  {
   "cell_type": "markdown",
   "id": "6d0e400e",
   "metadata": {},
   "source": [
    "2. The code in a function is executed only when it is called.\n",
    "Declaring a function only results in storing the function in the currently active library"
   ]
  },
  {
   "cell_type": "markdown",
   "id": "d607e1e5",
   "metadata": {},
   "source": [
    "3. In order to create a function, we begin a statement with the keyword def followed by a function name and its arguments specified within (). "
   ]
  },
  {
   "cell_type": "markdown",
   "id": "cd6922e9",
   "metadata": {},
   "source": [
    "4. A function refers to a previously defined block of code which is stored inside a function name and is targeted to execute a specific action.  \n",
    "But when we talk about a function call, we are refering to an attempt being made to access that previously written lines of code inside a main program. We can make multiple calls to a function inside a single program by defining it just once."
   ]
  },
  {
   "cell_type": "markdown",
   "id": "48801c38",
   "metadata": {},
   "source": [
    "5. There is only one global scope in python i.e. inside the main program.  \n",
    "But when it comes to local scopes, each function definition carries a local scope inside & since there can be multiple function definitions inside a code, we can thus say that it is possible to have multiple local scopes."
   ]
  },
  {
   "cell_type": "markdown",
   "id": "a418ab28",
   "metadata": {},
   "source": [
    "6. Whe a function call returns, the local variables are terminated rendendering them inaccessible for the main program.\n",
    "Any local variable is available only as long as the function is in execution and are redundant thereafter."
   ]
  },
  {
   "cell_type": "raw",
   "id": "050f08ef",
   "metadata": {},
   "source": [
    "7. When a call is made to a function inside a main program, the arguments provided with it act as the input variables and are subjected to the operations specified inside the function body. Once all the specified operations are executed, the function must now provide an output to the main program in the form of a RETURN value.\n",
    "So we can say that a return value is our desired result which is obtained in the main program and can be utilized further by carrying out operations as desired.\n",
    "If we mention a return value inside an expression, the program will be unable to access it because the return value will only be generated when a call is made to the function.\n"
   ]
  },
  {
   "cell_type": "code",
   "execution_count": 5,
   "id": "762411cb",
   "metadata": {},
   "outputs": [],
   "source": [
    "def fiu(a):\n",
    "    b=a+10\n",
    "    return b"
   ]
  },
  {
   "cell_type": "code",
   "execution_count": 8,
   "id": "95b0c84a",
   "metadata": {},
   "outputs": [
    {
     "data": {
      "text/plain": [
       "31"
      ]
     },
     "execution_count": 8,
     "metadata": {},
     "output_type": "execute_result"
    }
   ],
   "source": [
    "fiu(21)"
   ]
  },
  {
   "cell_type": "code",
   "execution_count": 11,
   "id": "bbe984ac",
   "metadata": {},
   "outputs": [],
   "source": [
    "sfs=fiu(325)+425"
   ]
  },
  {
   "cell_type": "code",
   "execution_count": 4,
   "id": "e20cc1d6",
   "metadata": {},
   "outputs": [
    {
     "data": {
      "text/plain": [
       "22"
      ]
     },
     "execution_count": 4,
     "metadata": {},
     "output_type": "execute_result"
    }
   ],
   "source": [
    "huy"
   ]
  },
  {
   "cell_type": "code",
   "execution_count": 12,
   "id": "f1c2668d",
   "metadata": {},
   "outputs": [
    {
     "data": {
      "text/plain": [
       "760"
      ]
     },
     "execution_count": 12,
     "metadata": {},
     "output_type": "execute_result"
    }
   ],
   "source": [
    "sfs"
   ]
  },
  {
   "cell_type": "code",
   "execution_count": null,
   "id": "7229626f",
   "metadata": {},
   "outputs": [],
   "source": []
  }
 ],
 "metadata": {
  "kernelspec": {
   "display_name": "Python 3 (ipykernel)",
   "language": "python",
   "name": "python3"
  },
  "language_info": {
   "codemirror_mode": {
    "name": "ipython",
    "version": 3
   },
   "file_extension": ".py",
   "mimetype": "text/x-python",
   "name": "python",
   "nbconvert_exporter": "python",
   "pygments_lexer": "ipython3",
   "version": "3.10.9"
  }
 },
 "nbformat": 4,
 "nbformat_minor": 5
}
