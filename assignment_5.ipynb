{
 "cells": [
  {
   "cell_type": "code",
   "execution_count": 1,
   "id": "64622ce1",
   "metadata": {},
   "outputs": [],
   "source": [
    "#1.\n",
    "dictionary={}"
   ]
  },
  {
   "cell_type": "markdown",
   "id": "6a1e9d1d",
   "metadata": {},
   "source": [
    "2. 42"
   ]
  },
  {
   "cell_type": "markdown",
   "id": "b87033ad",
   "metadata": {},
   "source": [
    "3. In a dictionary the elements are present as an ordered pair consisting of a series of keys each having a corresponding value whereas in a list an element comprises of a single value."
   ]
  },
  {
   "cell_type": "markdown",
   "id": "ea0c223d",
   "metadata": {},
   "source": [
    "4. spam={'bar':100} Here the dictionary has only one key ='bar'. When we try to access spam['foo'], the program will be unable to access this item as this key is missing in the definition of dictionary."
   ]
  },
  {
   "cell_type": "markdown",
   "id": "b91598de",
   "metadata": {},
   "source": [
    "5. The expression 'cat' in spam & 'cat' in spam.keys() both are equivalent expressions as both of them will try to look for 'cat' inside the dictionary's keys."
   ]
  },
  {
   "cell_type": "markdown",
   "id": "1ea0f413",
   "metadata": {},
   "source": [
    "6. The expression 'cat' in spam will try to access 'cat' among the keys assigned to the dictionary whereas the expression 'cat' in spam.values() will try to look for 'cat' inside the values assigned to the dictionary."
   ]
  },
  {
   "cell_type": "code",
   "execution_count": 8,
   "id": "8fb37ca9",
   "metadata": {},
   "outputs": [
    {
     "data": {
      "text/plain": [
       "'black'"
      ]
     },
     "execution_count": 8,
     "metadata": {},
     "output_type": "execute_result"
    }
   ],
   "source": [
    "#7.\n",
    "spam.setdefault('color','black')"
   ]
  },
  {
   "cell_type": "code",
   "execution_count": 6,
   "id": "5600a5c6",
   "metadata": {},
   "outputs": [
    {
     "name": "stdout",
     "output_type": "stream",
     "text": [
      "dict_values([100, 'black'])\n"
     ]
    }
   ],
   "source": [
    "#8.\n",
    "import pprint\n",
    "pprint.pprint(spam.values())"
   ]
  }
 ],
 "metadata": {
  "kernelspec": {
   "display_name": "Python 3 (ipykernel)",
   "language": "python",
   "name": "python3"
  },
  "language_info": {
   "codemirror_mode": {
    "name": "ipython",
    "version": 3
   },
   "file_extension": ".py",
   "mimetype": "text/x-python",
   "name": "python",
   "nbconvert_exporter": "python",
   "pygments_lexer": "ipython3",
   "version": "3.10.9"
  }
 },
 "nbformat": 4,
 "nbformat_minor": 5
}
