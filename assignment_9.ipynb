{
 "cells": [
  {
   "cell_type": "markdown",
   "id": "db8168b9",
   "metadata": {},
   "source": [
    "1. Lambda functions are basically anonymous functions which use a shortened format of defining a function without specifying a function name.  \n",
    "Unlike regular functions, lambda funtions are utilized in situations when we need to declare a variable inside an argument where it is necessary to define the function operation in a single statement. Also, we can use lambda functions simply whenever we wish to reduce the length of code. "
   ]
  },
  {
   "cell_type": "markdown",
   "id": "14ce4ae5",
   "metadata": {},
   "source": [
    "2. Yes, it is possible for a lambada function to have multiple argeuments.  \n",
    "In order to define them, write the keyword 'lambda' followed by a space & eaach of the arguments spaced by a comma.  \n",
    "For ex: x = lambda a,b,c : a+b+c  \n",
    "A simple use case for for a lamda function with multiple arguments could be to print the sum of elements inside a list. "
   ]
  },
  {
   "cell_type": "code",
   "execution_count": 5,
   "id": "51248e5b",
   "metadata": {},
   "outputs": [
    {
     "name": "stdout",
     "output_type": "stream",
     "text": [
      "[4, 9, 16, 25, 36]\n"
     ]
    }
   ],
   "source": [
    "# 3. \n",
    "\"\"\"Lambda functions are typically used when we need to define the function operation in a single line inside an argument. \n",
    "Consider the following example:  \n",
    "Suppose we wish to map the integers inside a given list to their corresponding squares.  \n",
    "For this we can write, \"\"\"\n",
    "\n",
    "l1 = [2,3,4,5,6] #original list  \n",
    "l2 = list(map(lambda a : a**2 , l1))  \n",
    "print(l2)"
   ]
  },
  {
   "cell_type": "markdown",
   "id": "28ef0e90",
   "metadata": {},
   "source": [
    "4. Advantages:  \n",
    "\n",
    "a) Lambda functions are very useful when the function operation is simple and can be defined in a single expression, as it helps to reduce the length of code.   \n",
    "\n",
    "b) Using lambda functions also helps in saving time.  \n",
    "\n",
    "Disadvantages:  \n",
    "\n",
    "a) Lambda functions cannot be used when the function operation consists of multiple expressions.  \n",
    "\n",
    "b) Lambda functions can sometimes reduce the readability of the code by making the expression look complicated. On the other hand, regular functions have a more relaxed format where individual statements can be laid out with supporting comments."
   ]
  },
  {
   "cell_type": "code",
   "execution_count": 7,
   "id": "a269ba3f",
   "metadata": {},
   "outputs": [
    {
     "data": {
      "text/plain": [
       "200"
      ]
     },
     "execution_count": 7,
     "metadata": {},
     "output_type": "execute_result"
    }
   ],
   "source": [
    "# 5. Yes, lambda functions are able to access variables defined outside of their own scope. For example:\n",
    "num1=10\n",
    "num2=20\n",
    "x = lambda a,b : a*b\n",
    "x(num1,num2)\n",
    "# Here we can see that the lambda function can access the variables defined in the global scope."
   ]
  },
  {
   "cell_type": "code",
   "execution_count": 11,
   "id": "782b6ffe",
   "metadata": {},
   "outputs": [
    {
     "name": "stdout",
     "output_type": "stream",
     "text": [
      "enter a number10\n",
      "square of given number is  100\n"
     ]
    }
   ],
   "source": [
    "# 6. Lambda function to calculate square of a given number\n",
    "x=int(input(\"enter a number\"))\n",
    "y= lambda a : a**2\n",
    "print(\"square of given number is \" ,y(x))"
   ]
  },
  {
   "cell_type": "code",
   "execution_count": 19,
   "id": "64410ec6",
   "metadata": {},
   "outputs": [
    {
     "data": {
      "text/plain": [
       "42"
      ]
     },
     "execution_count": 19,
     "metadata": {},
     "output_type": "execute_result"
    }
   ],
   "source": [
    "# 7.\n",
    "l1=[3,5,7,9,0,5,3,42,1]\n",
    "from functools import reduce\n",
    "reduce(lambda x,y :x if x>y else y , l1)"
   ]
  },
  {
   "cell_type": "code",
   "execution_count": 21,
   "id": "e4026ef4",
   "metadata": {},
   "outputs": [
    {
     "data": {
      "text/plain": [
       "[0, 42]"
      ]
     },
     "execution_count": 21,
     "metadata": {},
     "output_type": "execute_result"
    }
   ],
   "source": [
    "# 8.\n",
    "list(filter(lambda x : x%2==0 ,l1))"
   ]
  },
  {
   "cell_type": "code",
   "execution_count": 38,
   "id": "4ebe299d",
   "metadata": {},
   "outputs": [
    {
     "data": {
      "text/plain": [
       "['365', 'fafa', '1231', 'uakg78', 'gakghak', '371846hbjgs']"
      ]
     },
     "execution_count": 38,
     "metadata": {},
     "output_type": "execute_result"
    }
   ],
   "source": [
    "# 9.\n",
    "l2=[\"fafa\",\"1231\",\"gakghak\",\"uakg78\",\"371846hbjgs\",\"365\"]\n",
    "x=lambda a : sorted(a,key=len)\n",
    "x(l2)"
   ]
  },
  {
   "cell_type": "code",
   "execution_count": 68,
   "id": "1b4359ca",
   "metadata": {},
   "outputs": [
    {
     "name": "stdout",
     "output_type": "stream",
     "text": [
      "[5, 9, 5]\n"
     ]
    }
   ],
   "source": [
    "# 10.\n",
    "l3=[3,5,7,9,0,5,3,42,1]\n",
    "l4=[4,6,8,2,5,9,30,6,54]\n",
    "l5=[]\n",
    "for i in range(max(len(l3),len(l4))):\n",
    "    x=lambda a,b: a[i] if a[i] in b else None\n",
    "    if x(l3,l4)!= None:\n",
    "        l5.append(x(l3,l4))\n",
    "print(l5)        "
   ]
  },
  {
   "cell_type": "code",
   "execution_count": 70,
   "id": "a91c29ec",
   "metadata": {},
   "outputs": [],
   "source": [
    "# 11.\n",
    "def factorial(n):\n",
    "    if n <= 1 :\n",
    "        return 1\n",
    "    else:\n",
    "        return n*factorial(n-1)\n"
   ]
  },
  {
   "cell_type": "code",
   "execution_count": 1,
   "id": "21891a0b",
   "metadata": {},
   "outputs": [],
   "source": [
    "# 12.\n",
    "def fibonacci(n):\n",
    "    if n <=1 :\n",
    "        return n\n",
    "    else:\n",
    "        return fibonacci(n-1) + fibonacci(n-2)"
   ]
  },
  {
   "cell_type": "code",
   "execution_count": 11,
   "id": "baa688cd",
   "metadata": {},
   "outputs": [
    {
     "data": {
      "text/plain": [
       "114"
      ]
     },
     "execution_count": 11,
     "metadata": {},
     "output_type": "execute_result"
    }
   ],
   "source": [
    "# 13.\n",
    "def sumlist(l):\n",
    "    if len(l)== 1 :\n",
    "        return l[0]\n",
    "    else:\n",
    "        return l[len(l)-1] + sumlist(l[0:len(l)-1])\n",
    "l6=[3,6,7,8,51,19,20]\n",
    "sumlist(l6)        "
   ]
  },
  {
   "cell_type": "code",
   "execution_count": 26,
   "id": "756ece9c",
   "metadata": {},
   "outputs": [
    {
     "name": "stdout",
     "output_type": "stream",
     "text": [
      "Yes\n"
     ]
    }
   ],
   "source": [
    "# 14.\n",
    "def isplindrom(s):\n",
    "    if len(s)<= 1 :\n",
    "        print(\"Yes\")\n",
    "    else:\n",
    "        if s[0] == s[-1]:\n",
    "            isplindrom(s[1:len(s)-1])\n",
    "        else:\n",
    "            print(\"No\")\n",
    "isplindrom(\"nitin\")    "
   ]
  },
  {
   "cell_type": "code",
   "execution_count": 1,
   "id": "3a518a5c",
   "metadata": {},
   "outputs": [
    {
     "data": {
      "text/plain": [
       "4"
      ]
     },
     "execution_count": 1,
     "metadata": {},
     "output_type": "execute_result"
    }
   ],
   "source": [
    "# 15.\n",
    "def gcd(x,y):\n",
    "    if y!=0:\n",
    "        return gcd(y,x%y)\n",
    "    else:\n",
    "        return x\n",
    "gcd(32,12)    \n",
    "    \n",
    "    "
   ]
  }
 ],
 "metadata": {
  "kernelspec": {
   "display_name": "Python 3 (ipykernel)",
   "language": "python",
   "name": "python3"
  },
  "language_info": {
   "codemirror_mode": {
    "name": "ipython",
    "version": 3
   },
   "file_extension": ".py",
   "mimetype": "text/x-python",
   "name": "python",
   "nbconvert_exporter": "python",
   "pygments_lexer": "ipython3",
   "version": "3.10.9"
  }
 },
 "nbformat": 4,
 "nbformat_minor": 5
}
