{
 "cells": [
  {
   "cell_type": "markdown",
   "id": "246d67e7",
   "metadata": {},
   "source": [
    "1. Functions are advantageous to have in our programs because they allow us the benefit of using some pre-written lines of code which are intended to execute a specified task.\n",
    "This saves us the hassle of writing down each line of code everytime we intend to do a repetitive action."
   ]
  },
  {
   "cell_type": "markdown",
   "id": "9b181cd7",
   "metadata": {},
   "source": [
    "2. The code in a function is executed only when it is called.\n",
    "Declaring a function only results in storing the function in the currently active module."
   ]
  },
  {
   "cell_type": "markdown",
   "id": "d607e1e5",
   "metadata": {},
   "source": [
    "3. In order to create a function, we begin a statement with the keyword def followed by a function name and its arguments specified within (). "
   ]
  },
  {
   "cell_type": "markdown",
   "id": "7fa3c04b",
   "metadata": {},
   "source": [
    "4. A function refers to a previously defined block of code which is stored inside a function name and is targeted to execute a specific action.  \n",
    "But when we talk about a function call, we are refering to an attempt being made to access that previously written block of code inside the main program. We can make multiple calls to a function inside a single program by defining it just once."
   ]
  },
  {
   "cell_type": "markdown",
   "id": "48801c38",
   "metadata": {},
   "source": [
    "5. There is only one global scope in python i.e. inside the main program.  \n",
    "But when it comes to local scopes, each function definition carries a local scope inside & since there can be multiple function definitions inside a code, we can thus say that it is possible to have multiple local scopes."
   ]
  },
  {
   "cell_type": "markdown",
   "id": "a418ab28",
   "metadata": {},
   "source": [
    "6. Whe a function call returns, the local variables are terminated rendendering them inaccessible for the main program.\n",
    "Any local variable is available only as long as the function is in execution and are redundant thereafter."
   ]
  },
  {
   "cell_type": "markdown",
   "id": "b50163c4",
   "metadata": {},
   "source": [
    "7. When a call is made to a function inside a main program, the arguments provided with it act as the input variables and are subjected to the operations specified inside the function body. Once all the specified operations are executed, the function must now provide an output to the main program in the form of a RETURN value.  \n",
    "So we can say that a return value is our desired result which is obtained in the main program and can be utilized further by carrying out operations as desired.  \n",
    "If we mention a return value inside an expression, the program will be unable to access it because the return value will only be generated when a call is made to the function.\n"
   ]
  },
  {
   "cell_type": "markdown",
   "id": "e8e6a27e",
   "metadata": {},
   "source": [
    "8. If a function does not have a return statement, it will not return any value when a call is made to that function."
   ]
  },
  {
   "cell_type": "markdown",
   "id": "e6509d31",
   "metadata": {},
   "source": [
    "9. In order to make a function variable refer to a global variable, we need to use the keyword global followed by variable name and then proceed it with the variable expression."
   ]
  },
  {
   "cell_type": "markdown",
   "id": "e9a43a30",
   "metadata": {},
   "source": [
    "10. The data type of None is a unique None type which means that it is a null value or something that is virtually non existant."
   ]
  },
  {
   "cell_type": "markdown",
   "id": "d66a707c",
   "metadata": {},
   "source": [
    "11. When we pass the command import areallyourpetsnamederic, the program will try to look for a module named 'areallyourpetsnamederic' and would try to access the libraries inside this module by importing them in the main module. "
   ]
  },
  {
   "cell_type": "markdown",
   "id": "7da6f828",
   "metadata": {},
   "source": [
    "12. After importing spam, we can write spam.bacon() in order to execute this function."
   ]
  },
  {
   "cell_type": "markdown",
   "id": "21323986",
   "metadata": {},
   "source": [
    "13. To prevent a program from crashing when it encounters an error, we must write our code inside a try block and must specify an except block which can be used to generate an exception whenever the program encounters an error."
   ]
  },
  {
   "cell_type": "markdown",
   "id": "4809177c",
   "metadata": {},
   "source": [
    "14. The try clause is used to handle a vulnerable block of code which has the potential to return an error. The try clause gives a provision to bypass such a statement by switching the control of the program to the except clause whenever an error is encountered. This prevents the program from crashing.  \n",
    "The except clause is used to specify a condition that will be executed only when an error is encountered, enabling us to lay down an alternative pathway to carry out conditional instructions without hampering the logic of the main code. Also the except clause can generate an exception to notify the user about an error without interrupting the execution of code."
   ]
  },
  {
   "cell_type": "code",
   "execution_count": null,
   "id": "3c0aed0d",
   "metadata": {},
   "outputs": [],
   "source": []
  }
 ],
 "metadata": {
  "kernelspec": {
   "display_name": "Python 3 (ipykernel)",
   "language": "python",
   "name": "python3"
  },
  "language_info": {
   "codemirror_mode": {
    "name": "ipython",
    "version": 3
   },
   "file_extension": ".py",
   "mimetype": "text/x-python",
   "name": "python",
   "nbconvert_exporter": "python",
   "pygments_lexer": "ipython3",
   "version": "3.10.9"
  }
 },
 "nbformat": 4,
 "nbformat_minor": 5
}
