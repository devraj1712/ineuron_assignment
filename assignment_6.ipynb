{
 "cells": [
  {
   "cell_type": "code",
   "execution_count": 5,
   "id": "03715c47",
   "metadata": {},
   "outputs": [
    {
     "data": {
      "text/plain": [
       "['False',\n",
       " 'None',\n",
       " 'True',\n",
       " 'and',\n",
       " 'as',\n",
       " 'assert',\n",
       " 'async',\n",
       " 'await',\n",
       " 'break',\n",
       " 'class',\n",
       " 'continue',\n",
       " 'def',\n",
       " 'del',\n",
       " 'elif',\n",
       " 'else',\n",
       " 'except',\n",
       " 'finally',\n",
       " 'for',\n",
       " 'from',\n",
       " 'global',\n",
       " 'if',\n",
       " 'import',\n",
       " 'in',\n",
       " 'is',\n",
       " 'lambda',\n",
       " 'nonlocal',\n",
       " 'not',\n",
       " 'or',\n",
       " 'pass',\n",
       " 'raise',\n",
       " 'return',\n",
       " 'try',\n",
       " 'while',\n",
       " 'with',\n",
       " 'yield']"
      ]
     },
     "execution_count": 5,
     "metadata": {},
     "output_type": "execute_result"
    }
   ],
   "source": [
    "#1. Keywords in python are a set of reserved words which have been assigned specific functionality to carry out certain actions, for example words such as break,def are utilized for terminating a loop and defining a new function respectively.\n",
    "#Also the fact that keywords are reserved means that they cannot be assigned to any variable name .\n",
    "import keyword\n",
    "keyword.kwlist"
   ]
  },
  {
   "cell_type": "markdown",
   "id": "fb93eb23",
   "metadata": {},
   "source": [
    "2. The rules to create variables are as follows-  \n",
    "   -Variable names can contain alphanumeric characters and underscore.  \n",
    "   -Variable names must not start with a number  \n",
    "   -Variable names must not contain a space  \n",
    "   -Variable names are case sensitive"
   ]
  },
  {
   "cell_type": "markdown",
   "id": "1eca96f7",
   "metadata": {},
   "source": [
    "3. The standards for nomenclature of variables for proper readability in python are as follows-  \n",
    "   - Variable names consisting of two or more words must be separated with an underscore  \n",
    "   - Proper indentaion must be provided between different blocks of code  \n",
    "   - There must be a space after a comma between two function arguments  \n",
    "   - Local variables should be named using camelCase letters and Global variables should be named          using Capital letters  \n",
    "   - The names of function must be written in camelCase and should describe the purpose of the              function briefly."
   ]
  },
  {
   "cell_type": "markdown",
   "id": "be315ac0",
   "metadata": {},
   "source": [
    "4. If a keyword is used as a variable name, the program will generate a syntax error stating that the given name cannot be assigned."
   ]
  },
  {
   "cell_type": "markdown",
   "id": "4d282e6a",
   "metadata": {},
   "source": [
    "5. def keyword is used to define a new function in python. For this we simply type the word def followed by a function name & specify arguments within() "
   ]
  },
  {
   "cell_type": "markdown",
   "id": "6618c8ff",
   "metadata": {},
   "source": [
    "6. The special character \\ is called the escape character and serves multiple purposes.  \n",
    "First it is used to assign certain whitespaces in the generated output, \\t provides a tab whereas \\n generates a new line  \n",
    "Secondly \\ is used to escape other special characters. For example if we want to use an apostrophe sign inside two quote marks we need to precede this character with a \\ sign."
   ]
  },
  {
   "cell_type": "markdown",
   "id": "81912e4f",
   "metadata": {},
   "source": [
    "7. (i)   Homogeneous list  : [ \"abc\" , \"def\" , \"ef\" , \"gh\" ]  \n",
    "   (ii)  Heterogeneous set : { 1 , \"cd\" , True , 56 , \"z\" }  \n",
    "   (iii) Homogeneous tuple : ( 1 , 2 , 3 , 4 , 5 , 6 ) "
   ]
  },
  {
   "cell_type": "markdown",
   "id": "d0f66d93",
   "metadata": {},
   "source": [
    "8. Mutable data types are those which can be edited as desired at any point of time whereas immutable data types are those which can not be modified once declared.  \n",
    "List and dictionaries are mutable data types whereas tuples are immutable data types.  \n",
    "Examples:  \n",
    "Suppose we define a list as l = [1,2,3,4] and we wish to change the zeroth index to 5. We can accomplish this task by writing l[0] = 5.  \n",
    "In the same example if suppose l was declared as a tuple, l = (1,2,3,4). Now in this case we cannot reassign a new value to any specified index.  \n",
    "We can consider another example where we wish to add a new element to an existing list. For this we can write l + [5]. This will add the element 5 towards the end of the list.  \n",
    "Here in this example if we try to do this process with a tuple , we will encounter an error because tuples are immutable and therefore it is not possible to add or subtract any element."
   ]
  },
  {
   "cell_type": "code",
   "execution_count": 24,
   "id": "af766983",
   "metadata": {},
   "outputs": [
    {
     "name": "stdout",
     "output_type": "stream",
     "text": [
      "    *\n",
      "   ***\n",
      "  *****\n",
      " *******\n",
      "*********\n"
     ]
    }
   ],
   "source": [
    "#9.\n",
    "for i in range(5):\n",
    "    print(\" \"*(4-i) + \"*\"*(2*i+1))\n"
   ]
  },
  {
   "cell_type": "code",
   "execution_count": 25,
   "id": "40a5acd3",
   "metadata": {},
   "outputs": [
    {
     "name": "stdout",
     "output_type": "stream",
     "text": [
      "lllllllll\n",
      " lllllll\n",
      "  lllll\n",
      "   lll\n",
      "    l\n"
     ]
    }
   ],
   "source": [
    "#10.\n",
    "l=4\n",
    "while l>=0 :\n",
    "    print(\" \"*(4-l) + \"l\"*(2*l+1))\n",
    "    l=l-1\n",
    "    "
   ]
  }
 ],
 "metadata": {
  "kernelspec": {
   "display_name": "Python 3 (ipykernel)",
   "language": "python",
   "name": "python3"
  },
  "language_info": {
   "codemirror_mode": {
    "name": "ipython",
    "version": 3
   },
   "file_extension": ".py",
   "mimetype": "text/x-python",
   "name": "python",
   "nbconvert_exporter": "python",
   "pygments_lexer": "ipython3",
   "version": "3.10.9"
  }
 },
 "nbformat": 4,
 "nbformat_minor": 5
}
